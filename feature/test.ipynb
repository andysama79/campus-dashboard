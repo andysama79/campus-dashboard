{
 "cells": [
  {
   "cell_type": "code",
   "execution_count": 9,
   "metadata": {},
   "outputs": [
    {
     "name": "stdout",
     "output_type": "stream",
     "text": [
      "['utility', 'bharti', 'havells', 'hostel']\n",
      "{'utility': {'id': '2238279', 'read_api_key': 'KGYJDUYY76CKMC28'}, 'bharti': {'id': '2396702', 'read_api_key': 'QBEBJSC0GNO8W19G'}, 'havells': {'id': '2424084', 'read_api_key': '0XAAYMN0W9DWRDMX'}, 'hostel': {'id': '2424085', 'read_api_key': 'Z9B34KP0STLBZOPB'}}\n"
     ]
    }
   ],
   "source": [
    "import configparser\n",
    "\n",
    "parser = configparser.ConfigParser()\n",
    "parser.read('energy.ini')\n",
    "\n",
    "config_dict = {}\n",
    "\n",
    "print(parser.sections())\n",
    "\n",
    "for element in parser.sections():\n",
    "    config_dict[element] = {}\n",
    "    for name, value, in parser.items(element):\n",
    "        config_dict[element][name] = value\n",
    "\n",
    "print(config_dict)"
   ]
  },
  {
   "cell_type": "code",
   "execution_count": 15,
   "metadata": {},
   "outputs": [
    {
     "name": "stdout",
     "output_type": "stream",
     "text": [
      "['CCE-Plaksha']\n",
      "{'CCE-Plaksha': {'apikeyv2': 'aqfzuj9ub5iodlrdwvhy0rvqb0ce62sd', 'apisecret': 'aujta0m5z2qiczvoxu49vc8umumkn2ac'}}\n"
     ]
    }
   ],
   "source": [
    "parser = configparser.ConfigParser()\n",
    "parser.read('weather.ini')\n",
    "\n",
    "c_dict = {}\n",
    "\n",
    "print(parser.sections())\n",
    "\n",
    "for element in parser.sections():\n",
    "    c_dict[element] = {}\n",
    "    for name, value, in parser.items(element):\n",
    "        c_dict[element][name] = value\n",
    "\n",
    "print(c_dict)"
   ]
  },
  {
   "cell_type": "code",
   "execution_count": 1,
   "metadata": {},
   "outputs": [
    {
     "name": "stdout",
     "output_type": "stream",
     "text": [
      "             created_at  entry_id     field1 field2  field3 field4 field5  \\\n",
      "0  2024-02-11T17:57:41Z     69606  4904808.5    386  451.99  509.8  50.03   \n",
      "\n",
      "  field6  \n",
      "0   0.84  \n"
     ]
    }
   ],
   "source": [
    "from campus_energy import *\n",
    "\n",
    "print(get_last_n_readings(id=\"2238279\", key=\"KGYJDUYY76CKMC28\"))"
   ]
  },
  {
   "cell_type": "code",
   "execution_count": null,
   "metadata": {},
   "outputs": [],
   "source": []
  }
 ],
 "metadata": {
  "kernelspec": {
   "display_name": "campusdashboard",
   "language": "python",
   "name": "python3"
  },
  "language_info": {
   "codemirror_mode": {
    "name": "ipython",
    "version": 3
   },
   "file_extension": ".py",
   "mimetype": "text/x-python",
   "name": "python",
   "nbconvert_exporter": "python",
   "pygments_lexer": "ipython3",
   "version": "3.12.0"
  }
 },
 "nbformat": 4,
 "nbformat_minor": 2
}
